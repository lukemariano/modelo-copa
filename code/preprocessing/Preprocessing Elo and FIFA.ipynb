{
 "cells": [
  {
   "cell_type": "code",
   "execution_count": 1,
   "id": "3a820995",
   "metadata": {},
   "outputs": [],
   "source": [
    "import pandas as pd"
   ]
  },
  {
   "cell_type": "code",
   "execution_count": 2,
   "id": "4965bf17",
   "metadata": {},
   "outputs": [
    {
     "name": "stdout",
     "output_type": "stream",
     "text": [
      "elo_rating.csv\t\t\t\t fifa_world_cup_2022\n",
      "elo_rating_preprocessed.csv\t\t international_football_results\n",
      "fifa_ranking_before_wc.csv\t\t predictions\n",
      "fifa_ranking_before_wc_preprocessed.csv\n"
     ]
    }
   ],
   "source": [
    "!ls ../../datasets/"
   ]
  },
  {
   "cell_type": "markdown",
   "id": "c470b80e",
   "metadata": {},
   "source": [
    "## Datasets"
   ]
  },
  {
   "cell_type": "code",
   "execution_count": 3,
   "id": "e153c987",
   "metadata": {},
   "outputs": [
    {
     "data": {
      "text/html": [
       "<div>\n",
       "<style scoped>\n",
       "    .dataframe tbody tr th:only-of-type {\n",
       "        vertical-align: middle;\n",
       "    }\n",
       "\n",
       "    .dataframe tbody tr th {\n",
       "        vertical-align: top;\n",
       "    }\n",
       "\n",
       "    .dataframe thead th {\n",
       "        text-align: right;\n",
       "    }\n",
       "</style>\n",
       "<table border=\"1\" class=\"dataframe\">\n",
       "  <thead>\n",
       "    <tr style=\"text-align: right;\">\n",
       "      <th></th>\n",
       "      <th>WorldCup</th>\n",
       "      <th>RK</th>\n",
       "      <th>Team</th>\n",
       "      <th>PTS</th>\n",
       "    </tr>\n",
       "  </thead>\n",
       "  <tbody>\n",
       "    <tr>\n",
       "      <th>0</th>\n",
       "      <td>1994</td>\n",
       "      <td>1</td>\n",
       "      <td>GermanyGER</td>\n",
       "      <td>60.0</td>\n",
       "    </tr>\n",
       "    <tr>\n",
       "      <th>1</th>\n",
       "      <td>1994</td>\n",
       "      <td>2</td>\n",
       "      <td>NetherlandsNED</td>\n",
       "      <td>59.0</td>\n",
       "    </tr>\n",
       "    <tr>\n",
       "      <th>2</th>\n",
       "      <td>1994</td>\n",
       "      <td>3</td>\n",
       "      <td>BrazilBRA</td>\n",
       "      <td>59.0</td>\n",
       "    </tr>\n",
       "    <tr>\n",
       "      <th>3</th>\n",
       "      <td>1994</td>\n",
       "      <td>4</td>\n",
       "      <td>ItalyITA</td>\n",
       "      <td>57.0</td>\n",
       "    </tr>\n",
       "    <tr>\n",
       "      <th>4</th>\n",
       "      <td>1994</td>\n",
       "      <td>5</td>\n",
       "      <td>SpainESP</td>\n",
       "      <td>56.0</td>\n",
       "    </tr>\n",
       "  </tbody>\n",
       "</table>\n",
       "</div>"
      ],
      "text/plain": [
       "   WorldCup  RK            Team   PTS\n",
       "0      1994   1      GermanyGER  60.0\n",
       "1      1994   2  NetherlandsNED  59.0\n",
       "2      1994   3       BrazilBRA  59.0\n",
       "3      1994   4        ItalyITA  57.0\n",
       "4      1994   5        SpainESP  56.0"
      ]
     },
     "execution_count": 3,
     "metadata": {},
     "output_type": "execute_result"
    }
   ],
   "source": [
    "df_fifa = pd.read_csv(\"../../datasets/fifa_ranking_before_wc.csv\")\n",
    "df_fifa.head()"
   ]
  },
  {
   "cell_type": "code",
   "execution_count": 20,
   "id": "7436ea19",
   "metadata": {},
   "outputs": [
    {
     "name": "stdout",
     "output_type": "stream",
     "text": [
      "<class 'pandas.core.frame.DataFrame'>\n",
      "RangeIndex: 1575 entries, 0 to 1574\n",
      "Data columns (total 4 columns):\n",
      " #   Column    Non-Null Count  Dtype  \n",
      "---  ------    --------------  -----  \n",
      " 0   WorldCup  1575 non-null   int64  \n",
      " 1   RK        1575 non-null   int64  \n",
      " 2   Team      1575 non-null   object \n",
      " 3   PTS       1575 non-null   float64\n",
      "dtypes: float64(1), int64(2), object(1)\n",
      "memory usage: 49.3+ KB\n"
     ]
    }
   ],
   "source": [
    "df_fifa.info()"
   ]
  },
  {
   "cell_type": "code",
   "execution_count": 4,
   "id": "45178645",
   "metadata": {},
   "outputs": [
    {
     "data": {
      "text/html": [
       "<div>\n",
       "<style scoped>\n",
       "    .dataframe tbody tr th:only-of-type {\n",
       "        vertical-align: middle;\n",
       "    }\n",
       "\n",
       "    .dataframe tbody tr th {\n",
       "        vertical-align: top;\n",
       "    }\n",
       "\n",
       "    .dataframe thead th {\n",
       "        text-align: right;\n",
       "    }\n",
       "</style>\n",
       "<table border=\"1\" class=\"dataframe\">\n",
       "  <thead>\n",
       "    <tr style=\"text-align: right;\">\n",
       "      <th></th>\n",
       "      <th>Year</th>\n",
       "      <th>RK</th>\n",
       "      <th>Team</th>\n",
       "      <th>Rating</th>\n",
       "      <th>AverageRank</th>\n",
       "      <th>AverageRating</th>\n",
       "      <th>YearRank</th>\n",
       "      <th>YearRating</th>\n",
       "      <th>MatchesTotal</th>\n",
       "      <th>MathcesHome</th>\n",
       "      <th>MatchesAway</th>\n",
       "      <th>MatchesNeutral</th>\n",
       "      <th>MatchesWins</th>\n",
       "      <th>MatchesLosses</th>\n",
       "      <th>MatchesDraws</th>\n",
       "      <th>GoalsFor</th>\n",
       "      <th>GoalsAgainst</th>\n",
       "    </tr>\n",
       "  </thead>\n",
       "  <tbody>\n",
       "    <tr>\n",
       "      <th>0</th>\n",
       "      <td>1993</td>\n",
       "      <td>1</td>\n",
       "      <td>Germany</td>\n",
       "      <td>2015</td>\n",
       "      <td>9</td>\n",
       "      <td>1883</td>\n",
       "      <td>+2</td>\n",
       "      <td>+21</td>\n",
       "      <td>612</td>\n",
       "      <td>269</td>\n",
       "      <td>261</td>\n",
       "      <td>82</td>\n",
       "      <td>343</td>\n",
       "      <td>145</td>\n",
       "      <td>124</td>\n",
       "      <td>1378</td>\n",
       "      <td>786</td>\n",
       "    </tr>\n",
       "    <tr>\n",
       "      <th>1</th>\n",
       "      <td>1993</td>\n",
       "      <td>2</td>\n",
       "      <td>Italy</td>\n",
       "      <td>2000</td>\n",
       "      <td>8</td>\n",
       "      <td>1901</td>\n",
       "      <td>+2</td>\n",
       "      <td>+20</td>\n",
       "      <td>507</td>\n",
       "      <td>246</td>\n",
       "      <td>192</td>\n",
       "      <td>69</td>\n",
       "      <td>270</td>\n",
       "      <td>107</td>\n",
       "      <td>130</td>\n",
       "      <td>942</td>\n",
       "      <td>557</td>\n",
       "    </tr>\n",
       "    <tr>\n",
       "      <th>2</th>\n",
       "      <td>1993</td>\n",
       "      <td>3</td>\n",
       "      <td>Netherlands</td>\n",
       "      <td>1995</td>\n",
       "      <td>18</td>\n",
       "      <td>1798</td>\n",
       "      <td>+2</td>\n",
       "      <td>+27</td>\n",
       "      <td>512</td>\n",
       "      <td>246</td>\n",
       "      <td>219</td>\n",
       "      <td>47</td>\n",
       "      <td>238</td>\n",
       "      <td>170</td>\n",
       "      <td>104</td>\n",
       "      <td>1075</td>\n",
       "      <td>802</td>\n",
       "    </tr>\n",
       "    <tr>\n",
       "      <th>3</th>\n",
       "      <td>1993</td>\n",
       "      <td>4</td>\n",
       "      <td>Brazil</td>\n",
       "      <td>1950</td>\n",
       "      <td>5</td>\n",
       "      <td>1975</td>\n",
       "      <td>−2</td>\n",
       "      <td>−49</td>\n",
       "      <td>590</td>\n",
       "      <td>244</td>\n",
       "      <td>192</td>\n",
       "      <td>154</td>\n",
       "      <td>359</td>\n",
       "      <td>108</td>\n",
       "      <td>123</td>\n",
       "      <td>1270</td>\n",
       "      <td>608</td>\n",
       "    </tr>\n",
       "    <tr>\n",
       "      <th>4</th>\n",
       "      <td>1993</td>\n",
       "      <td>5</td>\n",
       "      <td>Yugoslavia</td>\n",
       "      <td>1933</td>\n",
       "      <td>19</td>\n",
       "      <td>1775</td>\n",
       "      <td>+2</td>\n",
       "      <td>0</td>\n",
       "      <td>523</td>\n",
       "      <td>192</td>\n",
       "      <td>253</td>\n",
       "      <td>78</td>\n",
       "      <td>252</td>\n",
       "      <td>169</td>\n",
       "      <td>102</td>\n",
       "      <td>1097</td>\n",
       "      <td>816</td>\n",
       "    </tr>\n",
       "  </tbody>\n",
       "</table>\n",
       "</div>"
      ],
      "text/plain": [
       "   Year  RK         Team  Rating  AverageRank  AverageRating YearRank  \\\n",
       "0  1993   1      Germany    2015            9           1883       +2   \n",
       "1  1993   2        Italy    2000            8           1901       +2   \n",
       "2  1993   3  Netherlands    1995           18           1798       +2   \n",
       "3  1993   4       Brazil    1950            5           1975       −2   \n",
       "4  1993   5   Yugoslavia    1933           19           1775       +2   \n",
       "\n",
       "  YearRating  MatchesTotal  MathcesHome  MatchesAway  MatchesNeutral  \\\n",
       "0        +21           612          269          261              82   \n",
       "1        +20           507          246          192              69   \n",
       "2        +27           512          246          219              47   \n",
       "3        −49           590          244          192             154   \n",
       "4          0           523          192          253              78   \n",
       "\n",
       "   MatchesWins  MatchesLosses  MatchesDraws  GoalsFor  GoalsAgainst  \n",
       "0          343            145           124      1378           786  \n",
       "1          270            107           130       942           557  \n",
       "2          238            170           104      1075           802  \n",
       "3          359            108           123      1270           608  \n",
       "4          252            169           102      1097           816  "
      ]
     },
     "execution_count": 4,
     "metadata": {},
     "output_type": "execute_result"
    }
   ],
   "source": [
    "df_elo = pd.read_csv(\"../../datasets/elo_rating.csv\")\n",
    "df_elo.head()"
   ]
  },
  {
   "cell_type": "code",
   "execution_count": 21,
   "id": "a8e2286d",
   "metadata": {},
   "outputs": [
    {
     "name": "stdout",
     "output_type": "stream",
     "text": [
      "<class 'pandas.core.frame.DataFrame'>\n",
      "RangeIndex: 1848 entries, 0 to 1847\n",
      "Data columns (total 17 columns):\n",
      " #   Column          Non-Null Count  Dtype \n",
      "---  ------          --------------  ----- \n",
      " 0   Year            1848 non-null   int64 \n",
      " 1   RK              1848 non-null   int64 \n",
      " 2   Team            1848 non-null   object\n",
      " 3   Rating          1848 non-null   int64 \n",
      " 4   AverageRank     1848 non-null   int64 \n",
      " 5   AverageRating   1848 non-null   int64 \n",
      " 6   YearRank        1848 non-null   object\n",
      " 7   YearRating      1848 non-null   object\n",
      " 8   MatchesTotal    1848 non-null   int64 \n",
      " 9   MathcesHome     1848 non-null   int64 \n",
      " 10  MatchesAway     1848 non-null   int64 \n",
      " 11  MatchesNeutral  1848 non-null   int64 \n",
      " 12  MatchesWins     1848 non-null   int64 \n",
      " 13  MatchesLosses   1848 non-null   int64 \n",
      " 14  MatchesDraws    1848 non-null   int64 \n",
      " 15  GoalsFor        1848 non-null   int64 \n",
      " 16  GoalsAgainst    1848 non-null   int64 \n",
      "dtypes: int64(14), object(3)\n",
      "memory usage: 245.6+ KB\n"
     ]
    }
   ],
   "source": [
    "df_elo.info()"
   ]
  },
  {
   "cell_type": "markdown",
   "id": "6c5a20b1",
   "metadata": {},
   "source": [
    "## Preprocess"
   ]
  },
  {
   "cell_type": "code",
   "execution_count": 28,
   "id": "9cf5d003",
   "metadata": {},
   "outputs": [],
   "source": [
    "def get_intermediate(df):\n",
    "    global _df\n",
    "    _df = df\n",
    "    return df"
   ]
  },
  {
   "cell_type": "code",
   "execution_count": 17,
   "id": "97b08e53",
   "metadata": {},
   "outputs": [],
   "source": [
    "def preprocess_fifa(df):\n",
    "    \"\"\"\n",
    "    Preprocess FIFA Ratings dataset.\n",
    "    \"\"\"\n",
    "    df = (\n",
    "        df\n",
    "        .assign(code = df.Team.apply(lambda x: x[-3:]))\n",
    "        .assign(Team = df_fifa.Team.apply(lambda x: x[:-3]))\n",
    "    )\n",
    "    df = df[['WorldCup', 'RK', 'code', 'Team', 'PTS']]\n",
    "    \n",
    "    return df"
   ]
  },
  {
   "cell_type": "code",
   "execution_count": 19,
   "id": "0809a39b",
   "metadata": {},
   "outputs": [
    {
     "data": {
      "text/html": [
       "<div>\n",
       "<style scoped>\n",
       "    .dataframe tbody tr th:only-of-type {\n",
       "        vertical-align: middle;\n",
       "    }\n",
       "\n",
       "    .dataframe tbody tr th {\n",
       "        vertical-align: top;\n",
       "    }\n",
       "\n",
       "    .dataframe thead th {\n",
       "        text-align: right;\n",
       "    }\n",
       "</style>\n",
       "<table border=\"1\" class=\"dataframe\">\n",
       "  <thead>\n",
       "    <tr style=\"text-align: right;\">\n",
       "      <th></th>\n",
       "      <th>WorldCup</th>\n",
       "      <th>RK</th>\n",
       "      <th>code</th>\n",
       "      <th>Team</th>\n",
       "      <th>PTS</th>\n",
       "    </tr>\n",
       "  </thead>\n",
       "  <tbody>\n",
       "    <tr>\n",
       "      <th>0</th>\n",
       "      <td>1994</td>\n",
       "      <td>1</td>\n",
       "      <td>GER</td>\n",
       "      <td>Germany</td>\n",
       "      <td>60.0</td>\n",
       "    </tr>\n",
       "    <tr>\n",
       "      <th>1</th>\n",
       "      <td>1994</td>\n",
       "      <td>2</td>\n",
       "      <td>NED</td>\n",
       "      <td>Netherlands</td>\n",
       "      <td>59.0</td>\n",
       "    </tr>\n",
       "    <tr>\n",
       "      <th>2</th>\n",
       "      <td>1994</td>\n",
       "      <td>3</td>\n",
       "      <td>BRA</td>\n",
       "      <td>Brazil</td>\n",
       "      <td>59.0</td>\n",
       "    </tr>\n",
       "    <tr>\n",
       "      <th>3</th>\n",
       "      <td>1994</td>\n",
       "      <td>4</td>\n",
       "      <td>ITA</td>\n",
       "      <td>Italy</td>\n",
       "      <td>57.0</td>\n",
       "    </tr>\n",
       "    <tr>\n",
       "      <th>4</th>\n",
       "      <td>1994</td>\n",
       "      <td>5</td>\n",
       "      <td>ESP</td>\n",
       "      <td>Spain</td>\n",
       "      <td>56.0</td>\n",
       "    </tr>\n",
       "  </tbody>\n",
       "</table>\n",
       "</div>"
      ],
      "text/plain": [
       "   WorldCup  RK code         Team   PTS\n",
       "0      1994   1  GER      Germany  60.0\n",
       "1      1994   2  NED  Netherlands  59.0\n",
       "2      1994   3  BRA       Brazil  59.0\n",
       "3      1994   4  ITA        Italy  57.0\n",
       "4      1994   5  ESP        Spain  56.0"
      ]
     },
     "execution_count": 19,
     "metadata": {},
     "output_type": "execute_result"
    }
   ],
   "source": [
    "df_fifa_preprocessed = preprocess_fifa(df_fifa)\n",
    "df_fifa_preprocessed.head()"
   ]
  },
  {
   "cell_type": "code",
   "execution_count": 149,
   "id": "008396f2",
   "metadata": {},
   "outputs": [
    {
     "data": {
      "text/plain": [
       "(1575, 5)"
      ]
     },
     "execution_count": 149,
     "metadata": {},
     "output_type": "execute_result"
    }
   ],
   "source": [
    "df_fifa_preprocessed.shape"
   ]
  },
  {
   "cell_type": "code",
   "execution_count": 153,
   "id": "4a39b3ae",
   "metadata": {},
   "outputs": [
    {
     "data": {
      "text/plain": [
       "nunique                                                   8\n",
       "unique     [1994, 1998, 2002, 2006, 2010, 2014, 2018, 2022]\n",
       "Name: WorldCup, dtype: object"
      ]
     },
     "execution_count": 153,
     "metadata": {},
     "output_type": "execute_result"
    }
   ],
   "source": [
    "df_fifa_preprocessed.WorldCup.agg(['nunique', 'unique'])"
   ]
  },
  {
   "cell_type": "code",
   "execution_count": 163,
   "id": "f01c7502",
   "metadata": {},
   "outputs": [
    {
     "data": {
      "text/plain": [
       "227"
      ]
     },
     "execution_count": 163,
     "metadata": {},
     "output_type": "execute_result"
    }
   ],
   "source": [
    "df_fifa_preprocessed.Team.nunique()"
   ]
  },
  {
   "cell_type": "code",
   "execution_count": 147,
   "id": "9056d356",
   "metadata": {},
   "outputs": [
    {
     "data": {
      "text/html": [
       "<div>\n",
       "<style scoped>\n",
       "    .dataframe tbody tr th:only-of-type {\n",
       "        vertical-align: middle;\n",
       "    }\n",
       "\n",
       "    .dataframe tbody tr th {\n",
       "        vertical-align: top;\n",
       "    }\n",
       "\n",
       "    .dataframe thead th {\n",
       "        text-align: right;\n",
       "    }\n",
       "</style>\n",
       "<table border=\"1\" class=\"dataframe\">\n",
       "  <thead>\n",
       "    <tr style=\"text-align: right;\">\n",
       "      <th></th>\n",
       "      <th>Year</th>\n",
       "      <th>RK</th>\n",
       "      <th>Team</th>\n",
       "      <th>Rating</th>\n",
       "      <th>AverageRank</th>\n",
       "      <th>AverageRating</th>\n",
       "      <th>YearRank</th>\n",
       "      <th>YearRating</th>\n",
       "      <th>MatchesTotal</th>\n",
       "      <th>MathcesHome</th>\n",
       "      <th>MatchesAway</th>\n",
       "      <th>MatchesNeutral</th>\n",
       "      <th>MatchesWins</th>\n",
       "      <th>MatchesLosses</th>\n",
       "      <th>MatchesDraws</th>\n",
       "      <th>GoalsFor</th>\n",
       "      <th>GoalsAgainst</th>\n",
       "    </tr>\n",
       "  </thead>\n",
       "  <tbody>\n",
       "    <tr>\n",
       "      <th>0</th>\n",
       "      <td>1993</td>\n",
       "      <td>1</td>\n",
       "      <td>Germany</td>\n",
       "      <td>2015</td>\n",
       "      <td>9</td>\n",
       "      <td>1883</td>\n",
       "      <td>2.0</td>\n",
       "      <td>21.0</td>\n",
       "      <td>612</td>\n",
       "      <td>269</td>\n",
       "      <td>261</td>\n",
       "      <td>82</td>\n",
       "      <td>343</td>\n",
       "      <td>145</td>\n",
       "      <td>124</td>\n",
       "      <td>1378</td>\n",
       "      <td>786</td>\n",
       "    </tr>\n",
       "    <tr>\n",
       "      <th>1</th>\n",
       "      <td>1993</td>\n",
       "      <td>2</td>\n",
       "      <td>Italy</td>\n",
       "      <td>2000</td>\n",
       "      <td>8</td>\n",
       "      <td>1901</td>\n",
       "      <td>2.0</td>\n",
       "      <td>20.0</td>\n",
       "      <td>507</td>\n",
       "      <td>246</td>\n",
       "      <td>192</td>\n",
       "      <td>69</td>\n",
       "      <td>270</td>\n",
       "      <td>107</td>\n",
       "      <td>130</td>\n",
       "      <td>942</td>\n",
       "      <td>557</td>\n",
       "    </tr>\n",
       "    <tr>\n",
       "      <th>2</th>\n",
       "      <td>1993</td>\n",
       "      <td>3</td>\n",
       "      <td>Netherlands</td>\n",
       "      <td>1995</td>\n",
       "      <td>18</td>\n",
       "      <td>1798</td>\n",
       "      <td>2.0</td>\n",
       "      <td>27.0</td>\n",
       "      <td>512</td>\n",
       "      <td>246</td>\n",
       "      <td>219</td>\n",
       "      <td>47</td>\n",
       "      <td>238</td>\n",
       "      <td>170</td>\n",
       "      <td>104</td>\n",
       "      <td>1075</td>\n",
       "      <td>802</td>\n",
       "    </tr>\n",
       "    <tr>\n",
       "      <th>3</th>\n",
       "      <td>1993</td>\n",
       "      <td>4</td>\n",
       "      <td>Brazil</td>\n",
       "      <td>1950</td>\n",
       "      <td>5</td>\n",
       "      <td>1975</td>\n",
       "      <td>-2.0</td>\n",
       "      <td>-49.0</td>\n",
       "      <td>590</td>\n",
       "      <td>244</td>\n",
       "      <td>192</td>\n",
       "      <td>154</td>\n",
       "      <td>359</td>\n",
       "      <td>108</td>\n",
       "      <td>123</td>\n",
       "      <td>1270</td>\n",
       "      <td>608</td>\n",
       "    </tr>\n",
       "    <tr>\n",
       "      <th>4</th>\n",
       "      <td>1993</td>\n",
       "      <td>5</td>\n",
       "      <td>Yugoslavia</td>\n",
       "      <td>1933</td>\n",
       "      <td>19</td>\n",
       "      <td>1775</td>\n",
       "      <td>2.0</td>\n",
       "      <td>0.0</td>\n",
       "      <td>523</td>\n",
       "      <td>192</td>\n",
       "      <td>253</td>\n",
       "      <td>78</td>\n",
       "      <td>252</td>\n",
       "      <td>169</td>\n",
       "      <td>102</td>\n",
       "      <td>1097</td>\n",
       "      <td>816</td>\n",
       "    </tr>\n",
       "  </tbody>\n",
       "</table>\n",
       "</div>"
      ],
      "text/plain": [
       "   Year  RK         Team  Rating  AverageRank  AverageRating  YearRank  \\\n",
       "0  1993   1      Germany    2015            9           1883       2.0   \n",
       "1  1993   2        Italy    2000            8           1901       2.0   \n",
       "2  1993   3  Netherlands    1995           18           1798       2.0   \n",
       "3  1993   4       Brazil    1950            5           1975      -2.0   \n",
       "4  1993   5   Yugoslavia    1933           19           1775       2.0   \n",
       "\n",
       "   YearRating  MatchesTotal  MathcesHome  MatchesAway  MatchesNeutral  \\\n",
       "0        21.0           612          269          261              82   \n",
       "1        20.0           507          246          192              69   \n",
       "2        27.0           512          246          219              47   \n",
       "3       -49.0           590          244          192             154   \n",
       "4         0.0           523          192          253              78   \n",
       "\n",
       "   MatchesWins  MatchesLosses  MatchesDraws  GoalsFor  GoalsAgainst  \n",
       "0          343            145           124      1378           786  \n",
       "1          270            107           130       942           557  \n",
       "2          238            170           104      1075           802  \n",
       "3          359            108           123      1270           608  \n",
       "4          252            169           102      1097           816  "
      ]
     },
     "execution_count": 147,
     "metadata": {},
     "output_type": "execute_result"
    }
   ],
   "source": [
    "def preprocess_elo(df):\n",
    "    \"\"\"\n",
    "    Preprocess Elo Ratings dataset.\n",
    "    \"\"\"\n",
    "    \n",
    "    for col in ['YearRank', 'YearRating']:\n",
    "        df = (\n",
    "            df\n",
    "            .replace(to_replace=r'[\\+]',value='', regex=True)\n",
    "            .replace(to_replace=r'[\\-]$',value='', regex=True)\n",
    "            .pipe(get_intermediate)\n",
    "            .assign(**{col: _df[col].apply(lambda x: re.sub(\"−\", '-', x))})\n",
    "            .replace('', '0')\n",
    "            .pipe(get_intermediate)\n",
    "            .assign(**{col: _df[col].astype('float')})\n",
    "        )\n",
    "        \n",
    "#         .assign(YearRank = _df.YearRank.astype('int'))\n",
    "#         .assign(YearRating = _df.YearRating.astype('int'))\n",
    "#         .rename(columns={'YearRank': 'YearRankChange', 'YearRating': 'YearRatingChange'})\n",
    "    \n",
    "    return df\n",
    "\n",
    "df_elo_preprocessed = preprocess_elo(df_elo)\n",
    "df_elo_preprocessed.head()"
   ]
  },
  {
   "cell_type": "code",
   "execution_count": 148,
   "id": "ae3a6d05",
   "metadata": {},
   "outputs": [
    {
     "name": "stdout",
     "output_type": "stream",
     "text": [
      "<class 'pandas.core.frame.DataFrame'>\n",
      "RangeIndex: 1848 entries, 0 to 1847\n",
      "Data columns (total 17 columns):\n",
      " #   Column          Non-Null Count  Dtype  \n",
      "---  ------          --------------  -----  \n",
      " 0   Year            1848 non-null   int64  \n",
      " 1   RK              1848 non-null   int64  \n",
      " 2   Team            1848 non-null   object \n",
      " 3   Rating          1848 non-null   int64  \n",
      " 4   AverageRank     1848 non-null   int64  \n",
      " 5   AverageRating   1848 non-null   int64  \n",
      " 6   YearRank        1848 non-null   float64\n",
      " 7   YearRating      1848 non-null   float64\n",
      " 8   MatchesTotal    1848 non-null   int64  \n",
      " 9   MathcesHome     1848 non-null   int64  \n",
      " 10  MatchesAway     1848 non-null   int64  \n",
      " 11  MatchesNeutral  1848 non-null   int64  \n",
      " 12  MatchesWins     1848 non-null   int64  \n",
      " 13  MatchesLosses   1848 non-null   int64  \n",
      " 14  MatchesDraws    1848 non-null   int64  \n",
      " 15  GoalsFor        1848 non-null   int64  \n",
      " 16  GoalsAgainst    1848 non-null   int64  \n",
      "dtypes: float64(2), int64(14), object(1)\n",
      "memory usage: 245.6+ KB\n"
     ]
    }
   ],
   "source": [
    "df_elo_preprocessed.info()"
   ]
  },
  {
   "cell_type": "code",
   "execution_count": 159,
   "id": "4816b409",
   "metadata": {},
   "outputs": [
    {
     "data": {
      "text/plain": [
       "nunique                                                   8\n",
       "unique     [1993, 1997, 2001, 2005, 2009, 2013, 2017, 2021]\n",
       "Name: Year, dtype: object"
      ]
     },
     "execution_count": 159,
     "metadata": {},
     "output_type": "execute_result"
    }
   ],
   "source": [
    "df_elo_preprocessed.Year.agg(['nunique', 'unique'])"
   ]
  },
  {
   "cell_type": "code",
   "execution_count": 162,
   "id": "81353dab",
   "metadata": {},
   "outputs": [
    {
     "data": {
      "text/plain": [
       "249"
      ]
     },
     "execution_count": 162,
     "metadata": {},
     "output_type": "execute_result"
    }
   ],
   "source": [
    "df_elo_preprocessed.Team.nunique()"
   ]
  },
  {
   "cell_type": "markdown",
   "id": "4bd2bfc2",
   "metadata": {},
   "source": [
    "# Save"
   ]
  },
  {
   "cell_type": "code",
   "execution_count": 164,
   "id": "aebed0de",
   "metadata": {},
   "outputs": [],
   "source": [
    "df_fifa_preprocessed.to_csv('../datasets/fifa_ranking_before_wc_preprocessed.csv')\n",
    "df_elo_preprocessed.to_csv('../datasets/elo_rating_preprocessed.csv')"
   ]
  },
  {
   "cell_type": "code",
   "execution_count": 165,
   "id": "e0bb2e61",
   "metadata": {},
   "outputs": [
    {
     "name": "stdout",
     "output_type": "stream",
     "text": [
      "elo_rating.csv\t\t     fifa_ranking_before_wc.csv\r\n",
      "elo_rating_preprocessed.csv  fifa_ranking_before_wc_preprocessed.csv\r\n"
     ]
    }
   ],
   "source": [
    "!ls ../datasets/"
   ]
  }
 ],
 "metadata": {
  "kernelspec": {
   "display_name": "Python 3.10.0 64-bit ('copa22')",
   "language": "python",
   "name": "python3"
  },
  "language_info": {
   "codemirror_mode": {
    "name": "ipython",
    "version": 3
   },
   "file_extension": ".py",
   "mimetype": "text/x-python",
   "name": "python",
   "nbconvert_exporter": "python",
   "pygments_lexer": "ipython3",
   "version": "3.10.0"
  },
  "vscode": {
   "interpreter": {
    "hash": "92038083be0dad5c657efe06940fcfce3f3f66267a5f99486d6b206cb0297145"
   }
  }
 },
 "nbformat": 4,
 "nbformat_minor": 5
}
